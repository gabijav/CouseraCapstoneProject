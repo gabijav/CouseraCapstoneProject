{
 "cells": [
  {
   "cell_type": "markdown",
   "metadata": {},
   "source": [
    "The aim of the project is to work on a case study which is to predict the severity of an accident using machine learning models and data science techniques learned on previous courses. To do that we will try to gain some insight from the data: under what weather, conditions of the road and lighting the incidents occur more often? Are they more likely to happen in winter or summer? Does speeding increase the severity of the accident? We will try to answer such questions using data. Specifically, we will try to find out which factors have the most impact on severity of the accident, create machine learning algorithms and train them to predict the severity of a possible accident.\n",
    "\n",
    "The given problem arises due to the lack of warnings and information about the weather and road conditions for the drivers, so that they could drive more carefully or, if possible, even change their travel. Such warnings with predictions how severe the car accident could be, given the weather and road conditions, may reduce the number of accidents, casualties and injuries, which in turn reduce cost of damage. In order to develop methods reducing the damage of potential accidents it is crucial to determine factors leading to said accidents. To efficiently use limited resources the priority is to create strategies aimed at minimizing the risk of sever accidents, hence we try to find factors particulary leading to severe accidents. As the project's objective is to determine what causes more severe incidents, this information could be most useful for insurance companies and governments (so they could, for example, improve lighting conditions at certain intersections/roads), although it may possibly be useful for car manufacturers and road construction companies."
   ]
  }
 ],
 "metadata": {
  "kernelspec": {
   "display_name": "Python",
   "language": "python",
   "name": "conda-env-python-py"
  },
  "language_info": {
   "codemirror_mode": {
    "name": "ipython",
    "version": 3
   },
   "file_extension": ".py",
   "mimetype": "text/x-python",
   "name": "python",
   "nbconvert_exporter": "python",
   "pygments_lexer": "ipython3",
   "version": "3.6.11"
  }
 },
 "nbformat": 4,
 "nbformat_minor": 4
}
